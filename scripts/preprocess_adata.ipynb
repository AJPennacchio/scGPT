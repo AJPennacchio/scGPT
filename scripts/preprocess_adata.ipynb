{
 "cells": [
  {
   "cell_type": "code",
   "execution_count": 13,
   "id": "7455510d-8dd6-4289-88f1-1f178f3b42f0",
   "metadata": {},
   "outputs": [],
   "source": [
    "import scanpy as sc\n",
    "import pandas as pd"
   ]
  },
  {
   "cell_type": "code",
   "execution_count": 14,
   "id": "8ac0b53d-7373-4100-965c-f4bf3337fbe8",
   "metadata": {},
   "outputs": [
    {
     "data": {
      "text/plain": [
       "AnnData object with n_obs × n_vars = 1376453 × 17818\n",
       "    obs: 'orig.ident', 'nCount_RNA', 'nFeature_RNA', 'percent.mt', 'background_fraction', 'cell_probability', 'cell_size', 'droplet_efficiency', 'pANN_0.25_0.1_6888', 'old_id', 'Sample_ID', 'CoLabs_ID', 'Pool_ID', 'Probe', 'Region', 'Purification', 'ProbeInput', 'EncapsulationInput', 'Goop', 'SampleEncapsulated', 'ExpectedRecovery', 'ActualRecovery', 'PercentRecovery', 'Category', 'Group', 'APOE', 'Age', 'Sex', 'Race', 'Source', 'Donor_ID', 'pool', 'pANN_0.25_0.001_6163', 'pANN_0.25_0.01_4537', 'pANN_0.25_0.005_13786', 'pANN_0.25_0.005_8409', 'pANN_0.25_0.01_10704', 'pANN_0.25_0.03_8719', 'subset', 'pANN_0.25_0.01_1465', 'pANN_0.25_0.05_7149', 'pANN_0.25_0.01_11086', 'pANN_0.25_0.05_9536', 'pANN_0.25_0.001_27080', 'pANN_0.25_0.04_11267', 'pANN_0.25_0.005_10916', 'pANN_0.25_0.05_9395', 'pANN_0.25_0.02_7520', 'pANN_0.25_0.07_11223', 'pANN_0.25_0.01_9459', 'S.Score', 'G2M.Score', 'Phase', 'RNA_snn_res.0.4', 'seurat_clusters', 'louvain_res0.4', 'RNA_snn_res.0.6', 'louvain_res0.6', 'RNA_snn_res.0.8', 'louvain_res0.8', 'RNA_snn_res.1', 'louvain_res1', 'RNA_snn_res.1.2', 'louvain_res1.2', 'RNA_snn_res.1.5', 'louvain_res1.5'\n",
       "    var: 'vst.mean', 'vst.variance', 'vst.variance.expected', 'vst.variance.standardized', 'vst.variable'\n",
       "    obsm: 'X_harmony', 'X_pca', 'X_umap'"
      ]
     },
     "execution_count": 14,
     "metadata": {},
     "output_type": "execute_result"
    }
   ],
   "source": [
    "adata = sc.read_h5ad(\"/wynton/home/yang/apennacchio/scGPT/data/merged.h5ad\")\n",
    "adata"
   ]
  },
  {
   "cell_type": "code",
   "execution_count": 15,
   "id": "40dbef36-e341-4ead-9e2a-2d0a6494e1b5",
   "metadata": {},
   "outputs": [
    {
     "data": {
      "text/html": [
       "<div>\n",
       "<style scoped>\n",
       "    .dataframe tbody tr th:only-of-type {\n",
       "        vertical-align: middle;\n",
       "    }\n",
       "\n",
       "    .dataframe tbody tr th {\n",
       "        vertical-align: top;\n",
       "    }\n",
       "\n",
       "    .dataframe thead th {\n",
       "        text-align: right;\n",
       "    }\n",
       "</style>\n",
       "<table border=\"1\" class=\"dataframe\">\n",
       "  <thead>\n",
       "    <tr style=\"text-align: right;\">\n",
       "      <th></th>\n",
       "      <th>cluster</th>\n",
       "      <th>res1.5_ann</th>\n",
       "    </tr>\n",
       "  </thead>\n",
       "  <tbody>\n",
       "    <tr>\n",
       "      <th>0</th>\n",
       "      <td>0</td>\n",
       "      <td>Neuron</td>\n",
       "    </tr>\n",
       "    <tr>\n",
       "      <th>1</th>\n",
       "      <td>1</td>\n",
       "      <td>Oligodendrocyte</td>\n",
       "    </tr>\n",
       "    <tr>\n",
       "      <th>2</th>\n",
       "      <td>2</td>\n",
       "      <td>Oligodendrocyte</td>\n",
       "    </tr>\n",
       "    <tr>\n",
       "      <th>3</th>\n",
       "      <td>3</td>\n",
       "      <td>Oligodendrocyte</td>\n",
       "    </tr>\n",
       "    <tr>\n",
       "      <th>4</th>\n",
       "      <td>4</td>\n",
       "      <td>Oligodendrocyte</td>\n",
       "    </tr>\n",
       "    <tr>\n",
       "      <th>...</th>\n",
       "      <td>...</td>\n",
       "      <td>...</td>\n",
       "    </tr>\n",
       "    <tr>\n",
       "      <th>69</th>\n",
       "      <td>69</td>\n",
       "      <td>Oligodendrocyte</td>\n",
       "    </tr>\n",
       "    <tr>\n",
       "      <th>70</th>\n",
       "      <td>70</td>\n",
       "      <td>Fibroblast</td>\n",
       "    </tr>\n",
       "    <tr>\n",
       "      <th>71</th>\n",
       "      <td>71</td>\n",
       "      <td>OPCs</td>\n",
       "    </tr>\n",
       "    <tr>\n",
       "      <th>72</th>\n",
       "      <td>72</td>\n",
       "      <td>Neuron</td>\n",
       "    </tr>\n",
       "    <tr>\n",
       "      <th>73</th>\n",
       "      <td>73</td>\n",
       "      <td>X</td>\n",
       "    </tr>\n",
       "  </tbody>\n",
       "</table>\n",
       "<p>74 rows × 2 columns</p>\n",
       "</div>"
      ],
      "text/plain": [
       "    cluster       res1.5_ann\n",
       "0         0           Neuron\n",
       "1         1  Oligodendrocyte\n",
       "2         2  Oligodendrocyte\n",
       "3         3  Oligodendrocyte\n",
       "4         4  Oligodendrocyte\n",
       "..      ...              ...\n",
       "69       69  Oligodendrocyte\n",
       "70       70       Fibroblast\n",
       "71       71             OPCs\n",
       "72       72           Neuron\n",
       "73       73                X\n",
       "\n",
       "[74 rows x 2 columns]"
      ]
     },
     "execution_count": 15,
     "metadata": {},
     "output_type": "execute_result"
    }
   ],
   "source": [
    "# load in CT labels for clusters\n",
    "labels = pd.read_csv(\"/wynton/home/yang/apennacchio/scGPT/data/XNEU2-B1_cb_louvain_res1.5_ann.csv\")\n",
    "labels"
   ]
  },
  {
   "cell_type": "code",
   "execution_count": 16,
   "id": "a864c9ce-b76f-45b8-a8cd-29320660b9a2",
   "metadata": {},
   "outputs": [],
   "source": [
    "#attach CT labels and rename columns\n",
    "labels[\"cluster\"] = labels[\"cluster\"].astype(\"int\")\n",
    "adata.obs[\"louvain_res1.5\"] = adata.obs[\"louvain_res1.5\"].astype(\"int\")\n",
    "adata.obs = pd.merge(adata.obs, labels, left_on='louvain_res1.5', right_on='cluster', how='left')\n",
    "adata.obs[\"louvain_res1.5\"] = adata.obs[\"louvain_res1.5\"].astype(\"category\")\n",
    "adata.obs.rename(columns={\"res1.5_ann\": \"celltype\"}, inplace=True)\n",
    "#adata.obs[\"str_batch\"] = adata.obs[\"Source\"].astype(str) # create copy of batch column\n",
    "adata.obs[\"str_batch\"] = adata.obs[\"pool\"].astype(str) # create copy of batch column\n",
    "\n"
   ]
  },
  {
   "cell_type": "code",
   "execution_count": 47,
   "id": "2dee3e6f-6536-496e-8614-34b5753ae108",
   "metadata": {},
   "outputs": [
    {
     "data": {
      "text/plain": [
       "\"\\n# randomly select 80% of rows to be train data (0), other 20% rows are test (1)\\nimport numpy as np\\n\\ntrain_test_assignment = np.random.choice([0, 1], size=adata.obs.shape[0], p=[0.8, 0.2])\\n\\n# Assign the batch_assignment array to the 'batch' column in the DataFrame\\nadata.obs['train_test_split'] = train_test_assignment\\nadata.obs\\n\""
      ]
     },
     "execution_count": 47,
     "metadata": {},
     "output_type": "execute_result"
    }
   ],
   "source": [
    "# note that this is only needed for the CT annotation workflow\n",
    "'''\n",
    "# randomly select 80% of rows to be train data (0), other 20% rows are test (1)\n",
    "import numpy as np\n",
    "\n",
    "train_test_assignment = np.random.choice([0, 1], size=adata.obs.shape[0], p=[0.8, 0.2])\n",
    "\n",
    "# Assign the batch_assignment array to the 'batch' column in the DataFrame\n",
    "adata.obs['train_test_split'] = train_test_assignment\n",
    "adata.obs\n",
    "'''"
   ]
  },
  {
   "cell_type": "code",
   "execution_count": 17,
   "id": "c0fc5ec6-be0a-433d-8437-91d6747f35fd",
   "metadata": {},
   "outputs": [],
   "source": [
    "adata.write_h5ad(\"../data/final.h5ad\")"
   ]
  },
  {
   "cell_type": "code",
   "execution_count": 18,
   "id": "96a3ffe8-2a42-4320-8adc-7f5e2f868a31",
   "metadata": {},
   "outputs": [
    {
     "name": "stderr",
     "output_type": "stream",
     "text": [
      "/wynton/home/yang/apennacchio/.local/lib/python3.12/site-packages/anndata/_core/aligned_df.py:67: ImplicitModificationWarning: Transforming to str index.\n",
      "  warnings.warn(\"Transforming to str index.\", ImplicitModificationWarning)\n"
     ]
    }
   ],
   "source": [
    "#split data in half for trial run \n",
    "import numpy as np\n",
    "bdata = sc.read_h5ad(\"../data/final.h5ad\")\n",
    "bdata.shape[0]\n",
    "random_indices = np.random.choice(bdata.shape[0], size=bdata.shape[0] // 2, replace=False)\n",
    "bdata_half = bdata[random_indices]\n",
    "bdata_half.shape\n",
    "bdata_half.write_h5ad(\"../data/half_final.h5ad\")"
   ]
  }
 ],
 "metadata": {
  "kernelspec": {
   "display_name": "torch",
   "language": "python",
   "name": "torch"
  },
  "language_info": {
   "codemirror_mode": {
    "name": "ipython",
    "version": 3
   },
   "file_extension": ".py",
   "mimetype": "text/x-python",
   "name": "python",
   "nbconvert_exporter": "python",
   "pygments_lexer": "ipython3",
   "version": "3.12.3"
  }
 },
 "nbformat": 4,
 "nbformat_minor": 5
}
